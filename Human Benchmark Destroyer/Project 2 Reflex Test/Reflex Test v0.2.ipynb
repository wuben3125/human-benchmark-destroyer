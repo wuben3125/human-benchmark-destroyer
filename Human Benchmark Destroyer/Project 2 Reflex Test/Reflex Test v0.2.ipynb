{
 "cells": [
  {
   "cell_type": "code",
   "execution_count": 1,
   "metadata": {},
   "outputs": [],
   "source": [
    "# Planning:\n",
    "\n",
    "# Function will only control the mouse click\n",
    "# Advanced Goal: to get a score as close as possible to 100ms\n",
    "# \n",
    "# Function execution:\n",
    "#     User will open speedtest page, run the function (with parameter of n runs [the test requires at least 5]),\n",
    "#         and then reopen the speedtest tab and place the cursor somewhere in the middle of the blue screen\n",
    "    \n",
    "#     Function will wait 5 seconds before clicking to initiate the sequence\n",
    "    \n",
    "#     While the screen under the cursor/ in a certain general region of the screen,\n",
    "#         the program waits. As soon as the region turns green, the function activates the attack click as quickly as possible\n",
    "        \n",
    "#     Another refresher period (0.5 seconds) before screen is clicked to initiate another run\n",
    "    \n",
    "#     Repeats until n runs have been completed\n",
    "    \n",
    "#     Function ends, user can take control of mouse to save score\n",
    "\n",
    "# Advanced Updates:\n",
    "#     Added a pause parameter to the singleRun function to slow down the reaction time\n",
    "    \n",
    "#   Higher numbers of runs will be required for more precision - wait time between runs reduced\n",
    "    \n",
    "#     Still barebones, dependent upon manual adjustment (I have to look at the click time and manually tweak the parameter)\n",
    "#         Possibly, the function could be constructed to read each reaction time result and adjust the parameter on its own?\n",
    "    \n",
    "    \n",
    "    \n",
    "    \n",
    "\n",
    "\n"
   ]
  },
  {
   "cell_type": "code",
   "execution_count": 1,
   "metadata": {},
   "outputs": [],
   "source": [
    "import sys\n",
    "\n",
    "sys.path.append('c:/users/ben/miniconda3/lib/site-packages')\n",
    "\n",
    "import pyautogui # wouldn't import without the above statement for some reason...\n",
    "import time"
   ]
  },
  {
   "cell_type": "code",
   "execution_count": 2,
   "metadata": {},
   "outputs": [],
   "source": [
    "def getPixelColor(x, y):\n",
    "    import win32gui\n",
    "    desktopWindowID = win32gui.GetDesktopWindow()\n",
    "    desktopWindowDC = win32gui.GetWindowDC(desktopWindowID)\n",
    "    longColor = win32gui.GetPixel(desktopWindowDC, x, y)\n",
    "    color = int(longColor)\n",
    "    \n",
    "    return (color & 0xff), ((color >> 8) & 0xff), ((color >> 16) & 0xff)"
   ]
  },
  {
   "cell_type": "code",
   "execution_count": 3,
   "metadata": {},
   "outputs": [],
   "source": [
    "# Function structure planning:\n",
    "\n",
    "# a pause in the main function body before the main for loop (n iterations) begins\n",
    "# a function for a single run\n",
    "#     Initial click, rapid click\n",
    "#         For rapid click, continuous while loop, until green appears \n",
    "# pauses after each iteration of the while loop\n",
    "#\n",
    "\n"
   ]
  },
  {
   "cell_type": "code",
   "execution_count": 4,
   "metadata": {},
   "outputs": [],
   "source": [
    "# Function draft 2\n",
    "def singleRunWithPause(p):  # p is the additional pause time, in seconds\n",
    "    time.sleep(0.5) # paused 1.5 seconds before starting a run\n",
    "    \n",
    "    pyautogui.click() # clicks on the current position to start the run\n",
    "    \n",
    "    # initial values\n",
    "    xPos, yPos = pyautogui.position()\n",
    "    redVal, greenVal, blueVal = getPixelColor(xPos, yPos)\n",
    "    \n",
    "    # waiting for the region to turn green...\n",
    "    \n",
    "    # Data: RGB data of the speed test green is (75, 219, 106) in the format (R, G, B)\n",
    "    # Using current detection error margin of 2\n",
    "    while not((redVal >= 73 and redVal <= 77) and (greenVal >= 217 and greenVal <= 221) and (blueVal >= 104 and blueVal <= 108)): # error: forgot the negation\n",
    "        xPos, yPos = pyautogui.position() # the cursor shuoldn't move, but this is just in case \n",
    "        redVal, greenVal, blueVal = getPixelColor(xPos, yPos) # make sure the cursor doesn't overlap with white text/noncolored areas\n",
    "    \n",
    "    time.sleep(p)\n",
    "    \n",
    "    pyautogui.click() # ATTACK!\n",
    "    \n",
    "\n",
    "    "
   ]
  },
  {
   "cell_type": "code",
   "execution_count": 5,
   "metadata": {},
   "outputs": [],
   "source": [
    "def nRunsWithPause(n, p):\n",
    "    '''After detecting green, causes the function to pause for p seconds\n",
    "    before clicking - the goal is to make the total click time precisely 100ms'''\n",
    "    \n",
    "    time.sleep(5) # gives 5 seconds for user to switch to reflex test tab and center cursor over colored area\n",
    "    \n",
    "    for i in range(n): # n number of trials. 5 minimum is suggested\n",
    "        \n",
    "        start = time.time()\n",
    "        \n",
    "        singleRunWithPause(p)\n",
    "        \n",
    "        end = time.time()\n",
    "        \n",
    "        print(f\"Run number {i + 1}: {end - start} seconds\")\n",
    "        \n",
    "    print(\"finished!\")"
   ]
  },
  {
   "cell_type": "code",
   "execution_count": 6,
   "metadata": {},
   "outputs": [
    {
     "name": "stdout",
     "output_type": "stream",
     "text": [
      "Run number 1: 3.2669975757598877 seconds\n",
      "Run number 2: 4.180952787399292 seconds\n",
      "Run number 3: 4.018187761306763 seconds\n",
      "Run number 4: 4.394859790802002 seconds\n",
      "Run number 5: 3.5366907119750977 seconds\n",
      "finished!\n"
     ]
    }
   ],
   "source": [
    "nRunsWithPause(5,0.05)\n",
    "# there is lots of variance - I'm going to comment out the timing code and just use the benchmark page as my timer\n",
    "# score: 109 ms"
   ]
  },
  {
   "cell_type": "code",
   "execution_count": 9,
   "metadata": {},
   "outputs": [
    {
     "name": "stdout",
     "output_type": "stream",
     "text": [
      "Run number 1: 5.728945016860962 seconds\n",
      "Run number 2: 3.9163858890533447 seconds\n",
      "Run number 3: 4.951202392578125 seconds\n",
      "Run number 4: 3.638845682144165 seconds\n",
      "Run number 5: 3.2521920204162598 seconds\n",
      "Run number 6: 4.049982309341431 seconds\n",
      "Run number 7: 4.320136547088623 seconds\n",
      "Run number 8: 4.07875657081604 seconds\n",
      "Run number 9: 5.269999742507935 seconds\n",
      "Run number 10: 5.304032564163208 seconds\n",
      "finished!\n"
     ]
    }
   ],
   "source": [
    "nRunsWithPause(10,0.041)\n",
    "# 0.079 seconds - got faster even though I didn't remove the print statement"
   ]
  },
  {
   "cell_type": "code",
   "execution_count": 15,
   "metadata": {},
   "outputs": [
    {
     "name": "stdout",
     "output_type": "stream",
     "text": [
      "Run number 1: 4.413726568222046 seconds\n",
      "Run number 2: 3.621713638305664 seconds\n",
      "Run number 3: 5.494858741760254 seconds\n",
      "Run number 4: 4.566990375518799 seconds\n",
      "Run number 5: 3.3155603408813477 seconds\n",
      "Run number 6: 3.9331157207489014 seconds\n",
      "Run number 7: 5.0340800285339355 seconds\n",
      "Run number 8: 5.166055202484131 seconds\n",
      "Run number 9: 4.250157833099365 seconds\n",
      "Run number 10: 3.3992502689361572 seconds\n",
      "finished!\n"
     ]
    }
   ],
   "source": [
    "nRunsWithPause(10,0.061)\n",
    "# climbed from 0.1 to 0.104 at the end... "
   ]
  },
  {
   "cell_type": "code",
   "execution_count": 17,
   "metadata": {},
   "outputs": [
    {
     "name": "stdout",
     "output_type": "stream",
     "text": [
      "finished!\n"
     ]
    }
   ],
   "source": [
    "nRunsWithPause(10,0.061)\n",
    "# 1.09 seconds again - the variability depends on the CPU, I'm guessing - and not the code itself \n",
    "# print statements uncommented"
   ]
  },
  {
   "cell_type": "code",
   "execution_count": 7,
   "metadata": {},
   "outputs": [
    {
     "name": "stdout",
     "output_type": "stream",
     "text": [
      "Run number 1: 3.4401609897613525 seconds\n",
      "Run number 2: 5.48030686378479 seconds\n",
      "Run number 3: 3.6018548011779785 seconds\n",
      "Run number 4: 3.982818841934204 seconds\n",
      "Run number 5: 4.133949518203735 seconds\n",
      "Run number 6: 4.715801239013672 seconds\n",
      "Run number 7: 4.232687473297119 seconds\n",
      "Run number 8: 4.717381000518799 seconds\n",
      "Run number 9: 5.617293834686279 seconds\n",
      "Run number 10: 5.064842462539673 seconds\n",
      "finished!\n"
     ]
    }
   ],
   "source": [
    "nRunsWithPause(10,0.050) \n",
    "# 0.90 ms"
   ]
  },
  {
   "cell_type": "code",
   "execution_count": 9,
   "metadata": {},
   "outputs": [
    {
     "name": "stdout",
     "output_type": "stream",
     "text": [
      "Run number 1: 4.861643552780151 seconds\n",
      "Run number 2: 5.560838937759399 seconds\n",
      "Run number 3: 5.037204265594482 seconds\n",
      "Run number 4: 4.615865468978882 seconds\n",
      "Run number 5: 5.211932182312012 seconds\n",
      "Run number 6: 4.155722379684448 seconds\n",
      "Run number 7: 3.816084861755371 seconds\n",
      "Run number 8: 5.416011333465576 seconds\n",
      "Run number 9: 3.6161844730377197 seconds\n",
      "Run number 10: 4.3006134033203125 seconds\n",
      "finished!\n"
     ]
    }
   ],
   "source": [
    "# continued from last\n",
    "nRunsWithPause(10,0.070)\n",
    "\n",
    "# cumulative: 0.101"
   ]
  },
  {
   "cell_type": "code",
   "execution_count": 10,
   "metadata": {},
   "outputs": [
    {
     "name": "stdout",
     "output_type": "stream",
     "text": [
      "Run number 1: 5.783379316329956 seconds\n",
      "Run number 2: 5.171531438827515 seconds\n",
      "Run number 3: 4.878522157669067 seconds\n",
      "Run number 4: 4.449890375137329 seconds\n",
      "Run number 5: 5.917083263397217 seconds\n",
      "Run number 6: 5.448725461959839 seconds\n",
      "Run number 7: 6.150560617446899 seconds\n",
      "Run number 8: 4.83318018913269 seconds\n",
      "Run number 9: 4.802706480026245 seconds\n",
      "Run number 10: 5.845977783203125 seconds\n",
      "finished!\n"
     ]
    }
   ],
   "source": [
    "#continued from last\n",
    "nRunsWithPause(10,0.595) # nice error!"
   ]
  },
  {
   "cell_type": "code",
   "execution_count": 13,
   "metadata": {},
   "outputs": [
    {
     "name": "stdout",
     "output_type": "stream",
     "text": [
      "Run number 1: 5.019675016403198 seconds\n",
      "Run number 2: 3.371382474899292 seconds\n",
      "Run number 3: 4.446725130081177 seconds\n",
      "Run number 4: 5.664660930633545 seconds\n",
      "Run number 5: 4.182123422622681 seconds\n",
      "Run number 6: 4.650497913360596 seconds\n",
      "Run number 7: 5.0331196784973145 seconds\n",
      "Run number 8: 5.399047136306763 seconds\n",
      "Run number 9: 5.050700426101685 seconds\n",
      "Run number 10: 3.6326611042022705 seconds\n",
      "finished!\n"
     ]
    }
   ],
   "source": [
    "nRunsWithPause(10, 0.060)\n",
    "\n"
   ]
  },
  {
   "cell_type": "code",
   "execution_count": null,
   "metadata": {},
   "outputs": [],
   "source": [
    "# Learning:\n",
    "\n",
    "# Solution to installed package not importing in notebook:\n",
    "    # sys.path.append('my/path/to/module/folder')\n",
    "    # import module-of-interest\n",
    "# https://stackoverflow.com/questions/15514593/importerror-no-module-named-when-trying-to-run-python-script/15622021#15622021 "
   ]
  },
  {
   "cell_type": "code",
   "execution_count": 10,
   "metadata": {},
   "outputs": [
    {
     "name": "stdout",
     "output_type": "stream",
     "text": [
      "Run number 1: 4.615783452987671 seconds\n",
      "Run number 2: 4.7494118213653564 seconds\n",
      "Run number 3: 5.308583736419678 seconds\n",
      "Run number 4: 4.13698148727417 seconds\n",
      "Run number 5: 5.52354621887207 seconds\n",
      "finished!\n"
     ]
    }
   ],
   "source": [
    "# 12/31/18 \n",
    "# I noticed that I'm no longer on the leaderboard for some reason - maybe it resets every so often\n",
    "nRunsWithPause(5,0.05)\n",
    "# \n",
    "# score: 109 ms"
   ]
  },
  {
   "cell_type": "code",
   "execution_count": 8,
   "metadata": {},
   "outputs": [
    {
     "name": "stdout",
     "output_type": "stream",
     "text": [
      "Run number 1: 5.671626329421997 seconds\n",
      "Run number 2: 5.064671993255615 seconds\n",
      "Run number 3: 3.535717487335205 seconds\n",
      "Run number 4: 3.6826155185699463 seconds\n",
      "Run number 5: 4.282186269760132 seconds\n",
      "finished!\n"
     ]
    }
   ],
   "source": [
    "# 12/31/18 \n",
    "# there was an error - I suspect the cause was my use of a different monitor\n",
    "# yup now that I've moved the window to my laptop monitor it worked fine\n",
    "nRunsWithPause(5,0.05)\n",
    "# score: 107 ms\n",
    "# didn't make it on leaderboard...\n",
    "# "
   ]
  },
  {
   "cell_type": "code",
   "execution_count": 12,
   "metadata": {},
   "outputs": [
    {
     "ename": "KeyboardInterrupt",
     "evalue": "",
     "output_type": "error",
     "traceback": [
      "\u001b[1;31m---------------------------------------------------------------------------\u001b[0m",
      "\u001b[1;31mKeyboardInterrupt\u001b[0m                         Traceback (most recent call last)",
      "\u001b[1;32m<ipython-input-12-667a26e29934>\u001b[0m in \u001b[0;36m<module>\u001b[1;34m()\u001b[0m\n\u001b[0;32m      1\u001b[0m \u001b[1;31m# 12/31/18\u001b[0m\u001b[1;33m\u001b[0m\u001b[1;33m\u001b[0m\u001b[0m\n\u001b[0;32m      2\u001b[0m \u001b[1;33m\u001b[0m\u001b[0m\n\u001b[1;32m----> 3\u001b[1;33m \u001b[0mnRunsWithPause\u001b[0m\u001b[1;33m(\u001b[0m\u001b[1;36m25\u001b[0m\u001b[1;33m,\u001b[0m\u001b[1;36m0.06\u001b[0m\u001b[1;33m)\u001b[0m\u001b[1;33m\u001b[0m\u001b[0m\n\u001b[0m\u001b[0;32m      4\u001b[0m \u001b[1;31m# score: 121 ms\u001b[0m\u001b[1;33m\u001b[0m\u001b[1;33m\u001b[0m\u001b[0m\n\u001b[0;32m      5\u001b[0m \u001b[1;31m# yay I made 17th place on the leaderboard\u001b[0m\u001b[1;33m\u001b[0m\u001b[1;33m\u001b[0m\u001b[0m\n",
      "\u001b[1;32m<ipython-input-6-4953b93fcd3b>\u001b[0m in \u001b[0;36mnRunsWithPause\u001b[1;34m(n, p)\u001b[0m\n\u001b[0;32m      3\u001b[0m     before clicking - the goal is to make the total click time precisely 100ms'''\n\u001b[0;32m      4\u001b[0m \u001b[1;33m\u001b[0m\u001b[0m\n\u001b[1;32m----> 5\u001b[1;33m     \u001b[0mtime\u001b[0m\u001b[1;33m.\u001b[0m\u001b[0msleep\u001b[0m\u001b[1;33m(\u001b[0m\u001b[1;36m5\u001b[0m\u001b[1;33m)\u001b[0m \u001b[1;31m# gives 5 seconds for user to switch to reflex test tab and center cursor over colored area\u001b[0m\u001b[1;33m\u001b[0m\u001b[0m\n\u001b[0m\u001b[0;32m      6\u001b[0m \u001b[1;33m\u001b[0m\u001b[0m\n\u001b[0;32m      7\u001b[0m     \u001b[1;32mfor\u001b[0m \u001b[0mi\u001b[0m \u001b[1;32min\u001b[0m \u001b[0mrange\u001b[0m\u001b[1;33m(\u001b[0m\u001b[0mn\u001b[0m\u001b[1;33m)\u001b[0m\u001b[1;33m:\u001b[0m \u001b[1;31m# n number of trials. 5 minimum is suggested\u001b[0m\u001b[1;33m\u001b[0m\u001b[0m\n",
      "\u001b[1;31mKeyboardInterrupt\u001b[0m: "
     ]
    }
   ],
   "source": [
    "# 12/31/18 \n",
    "\n",
    "nRunsWithPause(25,0.06)\n",
    "# score: 121 ms\n",
    "# yay I made 17th place on the leaderboard\n",
    "# I'm guessing I don't make it on when less than 5 of my tries are under 100 ms"
   ]
  },
  {
   "cell_type": "code",
   "execution_count": 15,
   "metadata": {},
   "outputs": [
    {
     "ename": "error",
     "evalue": "(0, 'GetPixel', 'No error message is available')",
     "output_type": "error",
     "traceback": [
      "\u001b[1;31m---------------------------------------------------------------------------\u001b[0m",
      "\u001b[1;31merror\u001b[0m                                     Traceback (most recent call last)",
      "\u001b[1;32m<ipython-input-15-edbf623ff76f>\u001b[0m in \u001b[0;36m<module>\u001b[1;34m()\u001b[0m\n\u001b[0;32m      1\u001b[0m \u001b[1;31m# 12/31/18\u001b[0m\u001b[1;33m\u001b[0m\u001b[1;33m\u001b[0m\u001b[0m\n\u001b[0;32m      2\u001b[0m \u001b[1;33m\u001b[0m\u001b[0m\n\u001b[1;32m----> 3\u001b[1;33m \u001b[0mnRunsWithPause\u001b[0m\u001b[1;33m(\u001b[0m\u001b[1;36m10\u001b[0m\u001b[1;33m,\u001b[0m\u001b[1;36m0.05\u001b[0m\u001b[1;33m)\u001b[0m\u001b[1;33m\u001b[0m\u001b[0m\n\u001b[0m\u001b[0;32m      4\u001b[0m \u001b[1;31m# score: 121 ms\u001b[0m\u001b[1;33m\u001b[0m\u001b[1;33m\u001b[0m\u001b[0m\n\u001b[0;32m      5\u001b[0m \u001b[1;31m# yay I made 17th place on the leaderboard\u001b[0m\u001b[1;33m\u001b[0m\u001b[1;33m\u001b[0m\u001b[0m\n",
      "\u001b[1;32m<ipython-input-6-4953b93fcd3b>\u001b[0m in \u001b[0;36mnRunsWithPause\u001b[1;34m(n, p)\u001b[0m\n\u001b[0;32m      9\u001b[0m         \u001b[0mstart\u001b[0m \u001b[1;33m=\u001b[0m \u001b[0mtime\u001b[0m\u001b[1;33m.\u001b[0m\u001b[0mtime\u001b[0m\u001b[1;33m(\u001b[0m\u001b[1;33m)\u001b[0m\u001b[1;33m\u001b[0m\u001b[0m\n\u001b[0;32m     10\u001b[0m \u001b[1;33m\u001b[0m\u001b[0m\n\u001b[1;32m---> 11\u001b[1;33m         \u001b[0msingleRunWithPause\u001b[0m\u001b[1;33m(\u001b[0m\u001b[0mp\u001b[0m\u001b[1;33m)\u001b[0m\u001b[1;33m\u001b[0m\u001b[0m\n\u001b[0m\u001b[0;32m     12\u001b[0m \u001b[1;33m\u001b[0m\u001b[0m\n\u001b[0;32m     13\u001b[0m         \u001b[0mend\u001b[0m \u001b[1;33m=\u001b[0m \u001b[0mtime\u001b[0m\u001b[1;33m.\u001b[0m\u001b[0mtime\u001b[0m\u001b[1;33m(\u001b[0m\u001b[1;33m)\u001b[0m\u001b[1;33m\u001b[0m\u001b[0m\n",
      "\u001b[1;32m<ipython-input-5-700d1460a5b9>\u001b[0m in \u001b[0;36msingleRunWithPause\u001b[1;34m(p)\u001b[0m\n\u001b[0;32m      7\u001b[0m     \u001b[1;31m# initial values\u001b[0m\u001b[1;33m\u001b[0m\u001b[1;33m\u001b[0m\u001b[0m\n\u001b[0;32m      8\u001b[0m     \u001b[0mxPos\u001b[0m\u001b[1;33m,\u001b[0m \u001b[0myPos\u001b[0m \u001b[1;33m=\u001b[0m \u001b[0mpyautogui\u001b[0m\u001b[1;33m.\u001b[0m\u001b[0mposition\u001b[0m\u001b[1;33m(\u001b[0m\u001b[1;33m)\u001b[0m\u001b[1;33m\u001b[0m\u001b[0m\n\u001b[1;32m----> 9\u001b[1;33m     \u001b[0mredVal\u001b[0m\u001b[1;33m,\u001b[0m \u001b[0mgreenVal\u001b[0m\u001b[1;33m,\u001b[0m \u001b[0mblueVal\u001b[0m \u001b[1;33m=\u001b[0m \u001b[0mgetPixelColor\u001b[0m\u001b[1;33m(\u001b[0m\u001b[0mxPos\u001b[0m\u001b[1;33m,\u001b[0m \u001b[0myPos\u001b[0m\u001b[1;33m)\u001b[0m\u001b[1;33m\u001b[0m\u001b[0m\n\u001b[0m\u001b[0;32m     10\u001b[0m \u001b[1;33m\u001b[0m\u001b[0m\n\u001b[0;32m     11\u001b[0m     \u001b[1;31m# waiting for the region to turn green...\u001b[0m\u001b[1;33m\u001b[0m\u001b[1;33m\u001b[0m\u001b[0m\n",
      "\u001b[1;32m<ipython-input-3-97b4fc380e2d>\u001b[0m in \u001b[0;36mgetPixelColor\u001b[1;34m(x, y)\u001b[0m\n\u001b[0;32m      3\u001b[0m     \u001b[0mdesktopWindowID\u001b[0m \u001b[1;33m=\u001b[0m \u001b[0mwin32gui\u001b[0m\u001b[1;33m.\u001b[0m\u001b[0mGetDesktopWindow\u001b[0m\u001b[1;33m(\u001b[0m\u001b[1;33m)\u001b[0m\u001b[1;33m\u001b[0m\u001b[0m\n\u001b[0;32m      4\u001b[0m     \u001b[0mdesktopWindowDC\u001b[0m \u001b[1;33m=\u001b[0m \u001b[0mwin32gui\u001b[0m\u001b[1;33m.\u001b[0m\u001b[0mGetWindowDC\u001b[0m\u001b[1;33m(\u001b[0m\u001b[0mdesktopWindowID\u001b[0m\u001b[1;33m)\u001b[0m\u001b[1;33m\u001b[0m\u001b[0m\n\u001b[1;32m----> 5\u001b[1;33m     \u001b[0mlongColor\u001b[0m \u001b[1;33m=\u001b[0m \u001b[0mwin32gui\u001b[0m\u001b[1;33m.\u001b[0m\u001b[0mGetPixel\u001b[0m\u001b[1;33m(\u001b[0m\u001b[0mdesktopWindowDC\u001b[0m\u001b[1;33m,\u001b[0m \u001b[0mx\u001b[0m\u001b[1;33m,\u001b[0m \u001b[0my\u001b[0m\u001b[1;33m)\u001b[0m\u001b[1;33m\u001b[0m\u001b[0m\n\u001b[0m\u001b[0;32m      6\u001b[0m     \u001b[0mcolor\u001b[0m \u001b[1;33m=\u001b[0m \u001b[0mint\u001b[0m\u001b[1;33m(\u001b[0m\u001b[0mlongColor\u001b[0m\u001b[1;33m)\u001b[0m\u001b[1;33m\u001b[0m\u001b[0m\n\u001b[0;32m      7\u001b[0m \u001b[1;33m\u001b[0m\u001b[0m\n",
      "\u001b[1;31merror\u001b[0m: (0, 'GetPixel', 'No error message is available')"
     ]
    }
   ],
   "source": [
    "# 12/31/18 \n",
    "\n",
    "nRunsWithPause(10,0.05)\n",
    "# score: 121 ms\n",
    "# yay I made 17th place on the leaderboard\n",
    "# "
   ]
  },
  {
   "cell_type": "code",
   "execution_count": null,
   "metadata": {},
   "outputs": [],
   "source": []
  }
 ],
 "metadata": {
  "kernelspec": {
   "display_name": "Python 3",
   "language": "python",
   "name": "python3"
  },
  "language_info": {
   "codemirror_mode": {
    "name": "ipython",
    "version": 3
   },
   "file_extension": ".py",
   "mimetype": "text/x-python",
   "name": "python",
   "nbconvert_exporter": "python",
   "pygments_lexer": "ipython3",
   "version": "3.6.5"
  }
 },
 "nbformat": 4,
 "nbformat_minor": 2
}
