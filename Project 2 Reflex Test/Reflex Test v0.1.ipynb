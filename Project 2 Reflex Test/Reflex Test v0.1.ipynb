{
 "cells": [
  {
   "cell_type": "code",
   "execution_count": 3,
   "metadata": {},
   "outputs": [],
   "source": [
    "# Planning:\n",
    "\n",
    "# Function will only control the mouse click, not movement or anything else\n",
    "# Goal: to get a better highscore than me (215 ms)\n",
    "# Advanced goal: to get on the leaderboard and not get banned\n",
    "# \n",
    "# Function execution:\n",
    "#     User will open speedtest page, run the function (with parameter of n runs [the test requires at least 5]),\n",
    "#         and then reopen the speedtest tab and place the cursor somewhere in the middle of the blue screen\n",
    "    \n",
    "#     Function will wait ~5 seconds before clicking to initiate the sequence\n",
    "    \n",
    "#     While the screen under the cursor/ in a certain general region of the screen (the former is slower but the latter is less generally practical),\n",
    "#         the program waits. As soon as the region turns green (input exact hex value? Or is there a way to detect \"green-ness\"?), the function activates\n",
    "#         the attack click as quickly as possible\n",
    "        \n",
    "#     Another refresher period (~2 seconds?) before screen is clicked to initiate another run, attacks the run as soon as screen is green\n",
    "    \n",
    "#     Repeats until n runs have been completed\n",
    "    \n",
    "#     Function ends, user can take control of mouse to save score\n",
    "    \n",
    "    \n",
    "# Special things:\n",
    "#     How to manipulate cursor\n",
    "#     How to detect color near the cursor/ how to detect color in a certain region of the screen (and which one is faster)\n",
    "#     How to 'detect' the presence of green (and then afterwards, how to do it efficiently)\n",
    "#     how to click the mouse button\n",
    "    \n",
    "#     how to create a neat timer system\n",
    "\n"
   ]
  },
  {
   "cell_type": "code",
   "execution_count": 1,
   "metadata": {},
   "outputs": [
    {
     "ename": "ModuleNotFoundError",
     "evalue": "No module named 'pyautogui'",
     "output_type": "error",
     "traceback": [
      "\u001b[1;31m---------------------------------------------------------------------------\u001b[0m",
      "\u001b[1;31mModuleNotFoundError\u001b[0m                       Traceback (most recent call last)",
      "\u001b[1;32m<ipython-input-1-a682fd9adae2>\u001b[0m in \u001b[0;36m<module>\u001b[1;34m()\u001b[0m\n\u001b[1;32m----> 1\u001b[1;33m \u001b[1;32mimport\u001b[0m \u001b[0mpyautogui\u001b[0m\u001b[1;33m\u001b[0m\u001b[0m\n\u001b[0m\u001b[0;32m      2\u001b[0m \u001b[1;32mimport\u001b[0m \u001b[0mtime\u001b[0m\u001b[1;33m\u001b[0m\u001b[0m\n\u001b[0;32m      3\u001b[0m \u001b[1;33m\u001b[0m\u001b[0m\n\u001b[0;32m      4\u001b[0m \u001b[1;33m\u001b[0m\u001b[0m\n\u001b[0;32m      5\u001b[0m \u001b[1;33m\u001b[0m\u001b[0m\n",
      "\u001b[1;31mModuleNotFoundError\u001b[0m: No module named 'pyautogui'"
     ]
    }
   ],
   "source": [
    "import pyautogui\n",
    "import time\n",
    "\n",
    "\n",
    "\n",
    "\n"
   ]
  },
  {
   "cell_type": "code",
   "execution_count": 7,
   "metadata": {},
   "outputs": [],
   "source": [
    "pyautogui.moveTo(100,200,2)"
   ]
  },
  {
   "cell_type": "code",
   "execution_count": 22,
   "metadata": {},
   "outputs": [],
   "source": [
    "pyautogui.click()"
   ]
  },
  {
   "cell_type": "code",
   "execution_count": 24,
   "metadata": {},
   "outputs": [
    {
     "name": "stdout",
     "output_type": "stream",
     "text": [
      "10.509695529937744 seconds\n"
     ]
    }
   ],
   "source": [
    "start = time.time()\n",
    "\n",
    "for i in range(100):\n",
    "    pyautogui.click()\n",
    "    \n",
    "end = time.time()\n",
    "\n",
    "print(end - start, \"seconds\")\n",
    "\n",
    "# ~.1 seconds per click"
   ]
  },
  {
   "cell_type": "code",
   "execution_count": 26,
   "metadata": {},
   "outputs": [
    {
     "data": {
      "text/plain": [
       "(336, 493)"
      ]
     },
     "execution_count": 26,
     "metadata": {},
     "output_type": "execute_result"
    }
   ],
   "source": [
    "pyautogui.position() "
   ]
  },
  {
   "cell_type": "code",
   "execution_count": 27,
   "metadata": {},
   "outputs": [
    {
     "name": "stdout",
     "output_type": "stream",
     "text": [
      "0.0020051002502441406 seconds\n"
     ]
    }
   ],
   "source": [
    "#Testing the length of pyautogui.position() execution time\n",
    "\n",
    "import time\n",
    "\n",
    "start = time.time()\n",
    "\n",
    "for i in range(100):\n",
    "    pyautogui.position()\n",
    "    \n",
    "end = time.time()\n",
    "\n",
    "print(end - start, \"seconds\")\n",
    "\n",
    "# ~time: 0.00002 seconds, won't be a problem"
   ]
  },
  {
   "cell_type": "code",
   "execution_count": 18,
   "metadata": {},
   "outputs": [],
   "source": [
    "def getPixelColor(x, y):\n",
    "    import win32gui\n",
    "    desktopWindowID = win32gui.GetDesktopWindow()\n",
    "    desktopWindowDC = win32gui.GetWindowDC(desktopWindowID)\n",
    "    longColor = win32gui.GetPixel(desktopWindowDC, x, y)\n",
    "    color = int(longColor)\n",
    "    \n",
    "    return (color & 0xff), ((color >> 8) & 0xff), ((color >> 16) & 0xff)"
   ]
  },
  {
   "cell_type": "code",
   "execution_count": 20,
   "metadata": {
    "scrolled": true
   },
   "outputs": [
    {
     "data": {
      "text/plain": [
       "(38, 38, 38)"
      ]
     },
     "execution_count": 20,
     "metadata": {},
     "output_type": "execute_result"
    }
   ],
   "source": [
    "getPixelColor(100,100)"
   ]
  },
  {
   "cell_type": "code",
   "execution_count": 28,
   "metadata": {},
   "outputs": [
    {
     "name": "stdout",
     "output_type": "stream",
     "text": [
      "1.6648807525634766 seconds\n"
     ]
    }
   ],
   "source": [
    "# Test to see how long one the getPixelColor method takes\n",
    "\n",
    "import time\n",
    "\n",
    "start = time.time()\n",
    "\n",
    "for i in range(100): # 100 executions, divide by 100 to get avg execution time\n",
    "    getPixelColor(100,100) #arbitrary coordinates, shouldn't make a difference\n",
    "    \n",
    "end = time.time()\n",
    "\n",
    "print(end - start, \"seconds\")\n",
    "\n",
    "# ~ .016 seconds per execution"
   ]
  },
  {
   "cell_type": "code",
   "execution_count": null,
   "metadata": {},
   "outputs": [],
   "source": []
  },
  {
   "cell_type": "code",
   "execution_count": 29,
   "metadata": {},
   "outputs": [],
   "source": [
    "# Data: RGB data of the speed test green is (75, 219, 106) in the format (R, G, B)\n",
    "# I'm going to be giving this an error margin of 2...? We'll see how it goes"
   ]
  },
  {
   "cell_type": "code",
   "execution_count": 31,
   "metadata": {},
   "outputs": [
    {
     "data": {
      "text/plain": [
       "3"
      ]
     },
     "execution_count": 31,
     "metadata": {},
     "output_type": "execute_result"
    }
   ],
   "source": [
    "# Function structure planning:\n",
    "\n",
    "# a pause in the main function body before the main for loop (n iterations) begins\n",
    "# a function for a single run\n",
    "#     Initial click, rapid click\n",
    "#         For rapid click, continuous while loop, until green appears \n",
    "# pauses after each iteration of the while loop\n",
    "#\n",
    "\n"
   ]
  },
  {
   "cell_type": "code",
   "execution_count": 51,
   "metadata": {},
   "outputs": [],
   "source": [
    "# Function draft 1\n",
    "import time\n",
    "\n",
    "def singleRun():\n",
    "    time.sleep(1.5) # paused 1.5 seconds before starting a run\n",
    "    \n",
    "    pyautogui.click() # clicks on the current position to start the run\n",
    "    \n",
    "    # initial values\n",
    "    xPos, yPos = pyautogui.position()\n",
    "    redVal, greenVal, blueVal = getPixelColor(xPos, yPos)\n",
    "    \n",
    "    # waiting for the region to turn green...\n",
    "    while not((redVal >= 73 and redVal <= 77) and (greenVal >= 217 and greenVal <= 221) and (blueVal >= 104 and blueVal <= 108)): # error: forgot the negation\n",
    "        xPos, yPos = pyautogui.position() # the cursor shuoldn't move, but this is just in case \n",
    "        redVal, greenVal, blueVal = getPixelColor(xPos, yPos) # make sure the cursor doesn't overlap with white text/noncolored areas\n",
    "    \n",
    "    pyautogui.click() # ATTACK!\n",
    "    \n",
    "    # error: used mouse.click() instead of pyautogui.click() programming languages aren't that intuitive yet...\n",
    "    "
   ]
  },
  {
   "cell_type": "code",
   "execution_count": 57,
   "metadata": {},
   "outputs": [],
   "source": [
    "import time\n",
    "\n",
    "def nRuns(n):\n",
    "    time.sleep(5) # gives 5 seconds for user to switch to reflex test tab and center cursor over colored area\n",
    "    \n",
    "    for i in range(n): # n number of trials. 5 minimum is suggested\n",
    "        \n",
    "        start = time.time()\n",
    "        \n",
    "        singleRun()\n",
    "        \n",
    "        end = time.time()\n",
    "        \n",
    "        print(f\"Run number {i + 1}: {end - start} seconds\")\n",
    "        \n",
    "    print(\"finished!\")"
   ]
  },
  {
   "cell_type": "code",
   "execution_count": 1,
   "metadata": {},
   "outputs": [
    {
     "ename": "NameError",
     "evalue": "name 'nRuns' is not defined",
     "output_type": "error",
     "traceback": [
      "\u001b[1;31m---------------------------------------------------------------------------\u001b[0m",
      "\u001b[1;31mNameError\u001b[0m                                 Traceback (most recent call last)",
      "\u001b[1;32m<ipython-input-1-319c0c064169>\u001b[0m in \u001b[0;36m<module>\u001b[1;34m()\u001b[0m\n\u001b[1;32m----> 1\u001b[1;33m \u001b[0mnRuns\u001b[0m\u001b[1;33m(\u001b[0m\u001b[1;36m5\u001b[0m\u001b[1;33m)\u001b[0m\u001b[1;33m\u001b[0m\u001b[0m\n\u001b[0m\u001b[0;32m      2\u001b[0m \u001b[1;31m# it works!\u001b[0m\u001b[1;33m\u001b[0m\u001b[1;33m\u001b[0m\u001b[0m\n",
      "\u001b[1;31mNameError\u001b[0m: name 'nRuns' is not defined"
     ]
    }
   ],
   "source": [
    "nRuns(5)\n",
    "# it works!"
   ]
  },
  {
   "cell_type": "code",
   "execution_count": null,
   "metadata": {},
   "outputs": [],
   "source": []
  },
  {
   "cell_type": "code",
   "execution_count": null,
   "metadata": {},
   "outputs": [],
   "source": []
  },
  {
   "cell_type": "code",
   "execution_count": null,
   "metadata": {},
   "outputs": [],
   "source": []
  },
  {
   "cell_type": "code",
   "execution_count": null,
   "metadata": {},
   "outputs": [],
   "source": []
  },
  {
   "cell_type": "code",
   "execution_count": null,
   "metadata": {},
   "outputs": [],
   "source": []
  },
  {
   "cell_type": "code",
   "execution_count": null,
   "metadata": {},
   "outputs": [],
   "source": []
  },
  {
   "cell_type": "code",
   "execution_count": null,
   "metadata": {},
   "outputs": [],
   "source": []
  },
  {
   "cell_type": "code",
   "execution_count": null,
   "metadata": {},
   "outputs": [],
   "source": [
    "# Learning:\n",
    "\n",
    "# import pyautogui\n",
    "\n",
    "# pyautogui.click(), pyautogui.click(x,y)\n",
    "\n",
    "# pyautogui.position()\n",
    "\n",
    "# pyautogui.moveTo(x,y, seconds)\n",
    "\n",
    "# pyautogui: installation and mouse and keyboard functions\n",
    "# https://pyautogui.readthedocs.io/en/latest/mouse.html\n",
    "\n",
    "# get pixel color\n",
    "# https://rosettacode.org/wiki/Color_of_a_screen_pixel#Python\n",
    "# win32gui\n",
    "\n",
    "# pausing functions\n",
    "# https://stackoverflow.com/questions/11552320/correct-way-to-pause-python-program \n",
    "# time.sleep(seconds)\n",
    "\n",
    "# tuples are indexed like lists --? numTuple[0]\n",
    "# https://stackoverflow.com/questions/3136059/getting-one-value-from-a-python-tuple\n",
    "\n",
    "# xPos, yPos = pyautogui.position()"
   ]
  },
  {
   "cell_type": "code",
   "execution_count": null,
   "metadata": {},
   "outputs": [],
   "source": []
  },
  {
   "cell_type": "code",
   "execution_count": null,
   "metadata": {},
   "outputs": [],
   "source": []
  }
 ],
 "metadata": {
  "kernelspec": {
   "display_name": "Python 3",
   "language": "python",
   "name": "python3"
  },
  "language_info": {
   "codemirror_mode": {
    "name": "ipython",
    "version": 3
   },
   "file_extension": ".py",
   "mimetype": "text/x-python",
   "name": "python",
   "nbconvert_exporter": "python",
   "pygments_lexer": "ipython3",
   "version": "3.6.5"
  }
 },
 "nbformat": 4,
 "nbformat_minor": 2
}
